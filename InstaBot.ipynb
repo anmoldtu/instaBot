{
 "cells": [
  {
   "cell_type": "code",
   "execution_count": 48,
   "metadata": {},
   "outputs": [],
   "source": [
    "import selenium\n",
    "from selenium import webdriver\n",
    "from selenium.webdriver.common.keys import Keys \n",
    "import time\n",
    "driver = webdriver.Chrome('/usr/local/bin/chromedriver')\n",
    "driver.get(\"https://www.instagram.com/\")"
   ]
  },
  {
   "cell_type": "code",
   "execution_count": 27,
   "metadata": {},
   "outputs": [],
   "source": [
    "driver.quit()"
   ]
  },
  {
   "cell_type": "code",
   "execution_count": 49,
   "metadata": {},
   "outputs": [],
   "source": [
    "#Opening Login Page\n",
    "driver.maximize_window()\n",
    "driver.find_element_by_link_text('Log in').click()"
   ]
  },
  {
   "cell_type": "code",
   "execution_count": 3,
   "metadata": {},
   "outputs": [],
   "source": [
    "driver.back()"
   ]
  },
  {
   "cell_type": "code",
   "execution_count": 10,
   "metadata": {},
   "outputs": [],
   "source": [
    "from selenium import webdriver\n",
    "from selenium.webdriver.support.ui import WebDriverWait\n",
    "from selenium.webdriver.support import expected_conditions as EC\n",
    "from selenium.common.exceptions import TimeoutException"
   ]
  },
  {
   "cell_type": "code",
   "execution_count": 50,
   "metadata": {},
   "outputs": [],
   "source": [
    "#Logging in to Instagram\n",
    "username = driver.find_element_by_name('username')\n",
    "password = driver.find_element_by_name('password')\n",
    "username.send_keys('SAMPLE_USERNAME')\n",
    "password.send_keys('SAMPLE_PASSWORD')\n",
    "password.submit()\n",
    "driver.implicitly_wait(20)\n",
    "driver.find_element_by_xpath('//button[contains(@class,\"aOOlW   HoLwm \")]').click()"
   ]
  },
  {
   "cell_type": "code",
   "execution_count": 13,
   "metadata": {},
   "outputs": [],
   "source": [
    "#Function to Searching and Opening a Profile:\n",
    "def open_profile(handle) :\n",
    "    search_box = driver.find_element_by_xpath('//input[contains(@class,\"XTCLo x3qfX \")]')\n",
    "    search_box.send_keys(handle)\n",
    "    time.sleep(4)\n",
    "    driver.find_element_by_xpath('//a[contains(@class,\"yCE8d\")]').click()"
   ]
  },
  {
   "cell_type": "code",
   "execution_count": 62,
   "metadata": {},
   "outputs": [],
   "source": [
    "# Opening Page of So Delhi\n",
    "open_profile('So Delhi')"
   ]
  },
  {
   "cell_type": "code",
   "execution_count": 67,
   "metadata": {},
   "outputs": [
    {
     "data": {
      "text/plain": [
       "['foodtalkindia',\n",
       " 'foodelhi',\n",
       " 'foodmaniacindia',\n",
       " 'foodys',\n",
       " 'foodiesince96',\n",
       " 'foodbible',\n",
       " 'food',\n",
       " 'bestfoodclip',\n",
       " 'foodyeating',\n",
       " 'foodandwine',\n",
       " 'foodfoodtv',\n",
       " 'foodofchefs',\n",
       " 'foodie.in.you',\n",
       " 'the_beard_foodies',\n",
       " 'food_food1010',\n",
       " 'dilsefoodie',\n",
       " 'foodsmix',\n",
       " 'eatable60s',\n",
       " 'foodhallindia',\n",
       " 'foodnetwork',\n",
       " 'foodbossindia',\n",
       " 'foodcrazymumbai',\n",
       " 'yourfoodlab',\n",
       " 'buzzfeedfood',\n",
       " 'foodydiy.s',\n",
       " 'food_lunatic',\n",
       " 'mumbaifoodie',\n",
       " 'foodiepediamumbai',\n",
       " 'foodiesofindia',\n",
       " 'mumbaifoodjunkie',\n",
       " 'whaaatislife',\n",
       " 'foodofmumbai',\n",
       " 'thefoodranger',\n",
       " 'foodmapjaipur',\n",
       " 'food_gambler',\n",
       " 'food_junc',\n",
       " 'videosdiys',\n",
       " 'love_food',\n",
       " 'dillifoodjunkie',\n",
       " 'beautifulfoodie',\n",
       " 'dharti.ka.bhoj',\n",
       " 'foodthattravels',\n",
       " 'foodfusionpk',\n",
       " 'foodie_incarnate',\n",
       " 'foodholic.mumbai',\n",
       " 'restauranteating',\n",
       " 'foodtravelstories',\n",
       " 'v_for_veggie',\n",
       " 'foodgasms_over_orgasms',\n",
       " 'foodie_anshul',\n",
       " 'delicioushealthyvideos',\n",
       " 'foodie_deepak',\n",
       " 'bhukkhadbybirth',\n",
       " 'foodiee__gabbar',\n",
       " 'thisisdelhi',\n",
       " 'food_ft_love',\n",
       " 'foodiecouple_parvan',\n",
       " 'bbcfood',\n",
       " 'food60s',\n",
       " 'foodofgoa',\n",
       " 'foodpsychoo',\n",
       " 'thegreatindianfoodie',\n",
       " 'ekplate',\n",
       " 'foodie_rushil',\n",
       " 'goodfoodinmumbai',\n",
       " 'foodymanic',\n",
       " 'foodainment',\n",
       " 'foodbloggerai',\n",
       " 'foodsnapperr',\n",
       " 'foodconnectindia',\n",
       " 'livingfoodz',\n",
       " 'foodiliciousdelhi',\n",
       " 'Horn Ok Please - Food Truck Festival',\n",
       " 'foodieforeverandever23',\n",
       " 'cooldiyvidss',\n",
       " 'foodiesparsh',\n",
       " 'fooduz',\n",
       " 'fao',\n",
       " 'thisisinsiderfood',\n",
       " 'food.spy.ir',\n",
       " 'healthyfoodvideos',\n",
       " 'insight_food',\n",
       " 'foodoveranything_',\n",
       " 'pinkandspicy',\n",
       " 'Food Court',\n",
       " 'stomach',\n",
       " 'foodie.bea',\n",
       " 'chennaifoodjunkie',\n",
       " 'Food Safety and Standards Authority of India',\n",
       " 'foodgod',\n",
       " 'buzz.foodie',\n",
       " 'foodfuly',\n",
       " 'foodguidelines',\n",
       " 'foodiearuna',\n",
       " 'food.wicked',\n",
       " 'kwalityfoods',\n",
       " 'foodloversmumbai',\n",
       " 'thepantry']"
      ]
     },
     "execution_count": 67,
     "metadata": {},
     "output_type": "execute_result"
    }
   ],
   "source": [
    "#Finding name of all Handles that appear in search bar on searching 'food'\n",
    "search_box = driver.find_element_by_xpath('//input[contains(@class,\"XTCLo x3qfX \")]')\n",
    "search_box.send_keys('food')\n",
    "time.sleep(4)\n",
    "all_names = driver.find_elements_by_class_name('Ap253')\n",
    "handles = []\n",
    "for i in all_names :\n",
    "    if i.text[0] != '#' :\n",
    "        handles.append(i.text)\n",
    "handles"
   ]
  },
  {
   "cell_type": "code",
   "execution_count": 77,
   "metadata": {},
   "outputs": [],
   "source": [
    "driver.refresh()"
   ]
  },
  {
   "cell_type": "code",
   "execution_count": 72,
   "metadata": {},
   "outputs": [
    {
     "name": "stdout",
     "output_type": "stream",
     "text": [
      "Already Following\n"
     ]
    }
   ],
   "source": [
    "#Follow 'So Delhi' :\n",
    "check_following = driver.find_elements_by_xpath('//button[contains(@class,\"-fzfL\")]')\n",
    "if len(check_following) != 0 :\n",
    "    print('Already Following')\n",
    "else :\n",
    "    driver.find_element_by_xpath('//button[contains(@class,\"jIbKX\")]').click()"
   ]
  },
  {
   "cell_type": "code",
   "execution_count": 70,
   "metadata": {},
   "outputs": [],
   "source": [
    "#Unfollow 'So Delhi' :\n",
    "check_following = driver.find_elements_by_xpath('//button[contains(@class,\"-fzfL\")]')\n",
    "if len(check_following) != 0 :\n",
    "    check_following[0].click()\n",
    "    time.sleep(2)\n",
    "    driver.find_element_by_xpath('//button[contains(@class,\"aOOlW -Cab_   \")]').click()\n",
    "else :\n",
    "    print('Already Unfollowed')"
   ]
  },
  {
   "cell_type": "code",
   "execution_count": 51,
   "metadata": {},
   "outputs": [],
   "source": [
    "#Get List of Followers :\n",
    "def get_followers() :\n",
    "    time.sleep(5)\n",
    "    import math\n",
    "    driver.find_element_by_partial_link_text('followers').click()\n",
    "    time.sleep(5)\n",
    "    start = 0\n",
    "    k = 24\n",
    "    followers = []\n",
    "    while(True) :\n",
    "        if len(followers) > 100 :\n",
    "            break;\n",
    "        elements = driver.find_elements_by_xpath('//a[contains(@class,\"FPmhX\")]')\n",
    "        elements = elements[start:k+1]\n",
    "        for i in elements :\n",
    "            followers.append(i.text)\n",
    "        st = \"body > div.RnEpo.Yx5HN > div > div.isgrP > ul > div > li:nth-child(\" + str(k) + \")\"\n",
    "        check_exists = driver.find_elements_by_css_selector(st)\n",
    "        if len(check_exists) == 0 :\n",
    "            break;\n",
    "        s ='var topPos = document.querySelector(\\\"'+st+'\\\"); topPos.scrollIntoView(false);'\n",
    "        driver.execute_script(s)\n",
    "        start = start+12\n",
    "        if start == 12 :\n",
    "            start = 25\n",
    "        k = k + 12\n",
    "        time.sleep(1)\n",
    "    driver.back()\n",
    "    return followers"
   ]
  },
  {
   "cell_type": "code",
   "execution_count": 114,
   "metadata": {},
   "outputs": [],
   "source": [
    "#Get List of Following by UserName :\n",
    "def get_following() :\n",
    "    time.sleep(5)\n",
    "    import math\n",
    "    driver.find_element_by_partial_link_text('following').click()\n",
    "    time.sleep(5)\n",
    "    start = 0\n",
    "    k = 24\n",
    "    following = []\n",
    "    while(True) :\n",
    "        elements = driver.find_elements_by_xpath('//a[contains(@class,\"FPmhX\")]')\n",
    "        elements = elements[start:k+1]\n",
    "        for i in elements :\n",
    "            following.append(i.text)\n",
    "        st = \"body > div.RnEpo.Yx5HN > div > div.isgrP > ul > div > li:nth-child(\" + str(k) + \")\"\n",
    "        check_exists = driver.find_elements_by_css_selector(st)\n",
    "        if len(check_exists) == 0 :\n",
    "            break;\n",
    "        s ='var topPos = document.querySelector(\\\"'+st+'\\\"); topPos.scrollIntoView(false);'\n",
    "        driver.execute_script(s)\n",
    "        start = start+12\n",
    "        if start == 12 :\n",
    "            start = 25\n",
    "        k = k + 12\n",
    "        time.sleep(1)\n",
    "    driver.back()\n",
    "    return following"
   ]
  },
  {
   "cell_type": "code",
   "execution_count": 115,
   "metadata": {},
   "outputs": [],
   "source": [
    "driver.back()"
   ]
  },
  {
   "cell_type": "code",
   "execution_count": 52,
   "metadata": {},
   "outputs": [],
   "source": [
    "# Get first 500 followers of 'foodtalkIndia'\n",
    "open_profile('foodtalkindia')\n",
    "follow1 = get_followers()"
   ]
  },
  {
   "cell_type": "code",
   "execution_count": 1,
   "metadata": {},
   "outputs": [
    {
     "ename": "NameError",
     "evalue": "name 'open_profile' is not defined",
     "output_type": "error",
     "traceback": [
      "\u001b[0;31m---------------------------------------------------------------------------\u001b[0m",
      "\u001b[0;31mNameError\u001b[0m                                 Traceback (most recent call last)",
      "\u001b[0;32m<ipython-input-1-ab0a79831239>\u001b[0m in \u001b[0;36m<module>\u001b[0;34m\u001b[0m\n\u001b[0;32m----> 1\u001b[0;31m \u001b[0mopen_profile\u001b[0m\u001b[0;34m(\u001b[0m\u001b[0;34m'So Delhi'\u001b[0m\u001b[0;34m)\u001b[0m\u001b[0;34m\u001b[0m\u001b[0;34m\u001b[0m\u001b[0m\n\u001b[0m\u001b[1;32m      2\u001b[0m \u001b[0mfollow2\u001b[0m \u001b[0;34m=\u001b[0m \u001b[0mget_following\u001b[0m\u001b[0;34m(\u001b[0m\u001b[0;34m)\u001b[0m\u001b[0;34m\u001b[0m\u001b[0;34m\u001b[0m\u001b[0m\n",
      "\u001b[0;31mNameError\u001b[0m: name 'open_profile' is not defined"
     ]
    }
   ],
   "source": [
    "open_profile('So Delhi')\n",
    "follow2 = get_following()"
   ]
  },
  {
   "cell_type": "code",
   "execution_count": 57,
   "metadata": {},
   "outputs": [],
   "source": []
  },
  {
   "cell_type": "code",
   "execution_count": 121,
   "metadata": {},
   "outputs": [
    {
     "name": "stdout",
     "output_type": "stream",
     "text": [
      "raghav.chadha.19\n",
      "sarthak.katyal409\n",
      "bhuvan.bam22\n",
      "engifest_dtu\n",
      "leomessi\n",
      "_arshdeepsingh\n",
      "mkbhd\n",
      "_abhinavsinghal_\n",
      "memezar\n",
      "anmolbns\n",
      "enactusdtu.unnati\n",
      "chommu.sapien\n",
      "iadityasharmaaa\n",
      "dash_win1\n",
      "sodelhi\n",
      "enactus_dtu\n",
      "garima.grewal\n",
      "relatabledtumemes\n",
      "manchesterunited\n",
      "anupama2905\n",
      "championsleague\n",
      "rotaractdistrict3011\n",
      "aditi.aggarwal23\n",
      "petermckinnon\n",
      "rishi.aneja\n",
      "m_ayush20\n",
      "thescribbledstories\n",
      "sidallawadi\n",
      "thatsujjawal\n",
      "raturi_shubham\n",
      "monil_bansal\n",
      "shreyasmehtaa\n",
      "priyankachopra\n",
      "dtu_times\n",
      "spitfireftw\n",
      "adia_hee\n",
      "vaibhav__srivastav13\n",
      "yash04g\n",
      "a_poor_chauhan\n",
      "namitpulyani\n",
      "karikapur\n",
      "snigdhakamal\n",
      "jaskeerat_singh9\n",
      "rcigdtuw\n",
      "a_buzar\n",
      "pangkaxd\n",
      "samarthgupta1011\n",
      "aakashk99\n",
      "ashutoshbansal24\n",
      "the_beard_foodies\n",
      "dtu_memes\n"
     ]
    }
   ],
   "source": [
    "# Following - Followers\n",
    "open_profile('anmolbudhiraja')\n",
    "my_following = get_following()\n",
    "my_followers = get_followers()\n",
    "finalList = list(set(my_following)-set(my_followers))\n",
    "for i in finalList :\n",
    "    print(i)"
   ]
  },
  {
   "cell_type": "code",
   "execution_count": 138,
   "metadata": {},
   "outputs": [],
   "source": [
    "# Checks if story is seen or not\n",
    "def check_Story(username) :\n",
    "    open_profile(username)\n",
    "    time.sleep(4)\n",
    "    height = driver.find_element_by_tag_name(\"canvas\").get_attribute('height')\n",
    "    if int(height) == 166 :\n",
    "        print('You have already checked the story of' , username)\n",
    "    else :\n",
    "        story_viewed = driver.find_elements_by_xpath('//div[contains(@class,\"h5uC0\")]')\n",
    "        if len(story_viewed) == 0 :\n",
    "            print('No story exists')\n",
    "        else :\n",
    "            driver.find_element_by_class_name('_6q-tv').click()\n",
    "    driver.back()"
   ]
  },
  {
   "cell_type": "code",
   "execution_count": 141,
   "metadata": {},
   "outputs": [
    {
     "name": "stdout",
     "output_type": "stream",
     "text": [
      "You have already checked the story of coding.ninjas\n"
     ]
    }
   ],
   "source": [
    "check_Story('coding.ninjas')"
   ]
  },
  {
   "cell_type": "code",
   "execution_count": 129,
   "metadata": {},
   "outputs": [],
   "source": [
    "# Liking the first 30 posts\n",
    "def like_Posts() :\n",
    "    for i in range(1):\n",
    "        driver.execute_script(\"window.scrollTo(0, document.body.scrollHeight);\")\n",
    "        time.sleep(3)\n",
    "    posts = driver.find_elements_by_class_name('_9AhH0')[0:30]\n",
    "    for p in posts :\n",
    "        p.click()\n",
    "        time.sleep(3)\n",
    "        check_like = driver.find_element_by_xpath('//span[contains(@class,\"fr66n\")]//span').get_attribute('aria-label')\n",
    "        if check_like != 'Like':\n",
    "            print('Already Liked')\n",
    "        else :\n",
    "            driver.find_element_by_xpath('//span[contains(@class,\"fr66n\")]').click()\n",
    "        time.sleep(2)\n",
    "        driver.back()"
   ]
  },
  {
   "cell_type": "code",
   "execution_count": 126,
   "metadata": {},
   "outputs": [],
   "source": [
    "# Unliking the first 30 posts\n",
    "def unlike_Posts() :\n",
    "    for i in range(1):\n",
    "        driver.execute_script(\"window.scrollTo(0, document.body.scrollHeight);\")\n",
    "        time.sleep(3)\n",
    "    posts = driver.find_elements_by_class_name('_9AhH0')[0:30]\n",
    "    for p in posts :\n",
    "        p.click()\n",
    "        time.sleep(2)\n",
    "        check_like = driver.find_element_by_xpath('//span[contains(@class,\"fr66n\")]//span').get_attribute('aria-label')\n",
    "        if check_like == 'Like':\n",
    "            print('Already Unliked')\n",
    "        else :\n",
    "            driver.find_element_by_xpath('//span[contains(@class,\"fr66n\")]').click()\n",
    "        time.sleep(1)\n",
    "        driver.back()"
   ]
  },
  {
   "cell_type": "code",
   "execution_count": 144,
   "metadata": {},
   "outputs": [
    {
     "name": "stdout",
     "output_type": "stream",
     "text": [
      "Already Unliked\n",
      "Already Unliked\n",
      "Already Unliked\n",
      "Already Unliked\n",
      "Already Unliked\n",
      "Already Unliked\n",
      "Already Unliked\n",
      "Already Unliked\n",
      "Already Unliked\n",
      "Already Unliked\n",
      "Already Unliked\n",
      "Already Unliked\n",
      "Already Unliked\n",
      "Already Unliked\n",
      "Already Unliked\n",
      "Already Unliked\n",
      "Already Unliked\n",
      "Already Unliked\n",
      "Already Unliked\n",
      "Already Unliked\n",
      "Already Unliked\n",
      "Already Unliked\n",
      "Already Unliked\n",
      "Already Unliked\n",
      "Already Unliked\n",
      "Already Unliked\n"
     ]
    }
   ],
   "source": [
    "open_profile('dilsefoodie')\n",
    "like_Posts()\n",
    "unlike_Posts()"
   ]
  },
  {
   "cell_type": "code",
   "execution_count": null,
   "metadata": {},
   "outputs": [],
   "source": []
  }
 ],
 "metadata": {
  "kernelspec": {
   "display_name": "Python 3",
   "language": "python",
   "name": "python3"
  },
  "language_info": {
   "codemirror_mode": {
    "name": "ipython",
    "version": 3
   },
   "file_extension": ".py",
   "mimetype": "text/x-python",
   "name": "python",
   "nbconvert_exporter": "python",
   "pygments_lexer": "ipython3",
   "version": "3.6.8"
  }
 },
 "nbformat": 4,
 "nbformat_minor": 2
}
