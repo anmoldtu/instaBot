{
 "cells": [
  {
   "cell_type": "code",
   "execution_count": null,
   "metadata": {},
   "outputs": [],
   "source": [
    "import selenium\n",
    "from selenium import webdriver\n",
    "from selenium.webdriver.common.keys import Keys \n",
    "import time\n",
    "driver = webdriver.Chrome('/usr/local/bin/chromedriver')\n",
    "driver.get(\"https://www.instagram.com/\")"
   ]
  },
  {
   "cell_type": "code",
   "execution_count": null,
   "metadata": {},
   "outputs": [],
   "source": [
    "driver.quit()"
   ]
  },
  {
   "cell_type": "code",
   "execution_count": null,
   "metadata": {},
   "outputs": [],
   "source": [
    "#Opening Login Page\n",
    "driver.maximize_window()\n",
    "driver.find_element_by_link_text('Log in').click()"
   ]
  },
  {
   "cell_type": "code",
   "execution_count": null,
   "metadata": {},
   "outputs": [],
   "source": [
    "driver.back()"
   ]
  },
  {
   "cell_type": "code",
   "execution_count": null,
   "metadata": {},
   "outputs": [],
   "source": [
    "from selenium import webdriver\n",
    "from selenium.webdriver.support.ui import WebDriverWait\n",
    "from selenium.webdriver.support import expected_conditions as EC\n",
    "from selenium.common.exceptions import TimeoutException"
   ]
  },
  {
   "cell_type": "code",
   "execution_count": null,
   "metadata": {},
   "outputs": [],
   "source": [
    "#Logging in to Instagram\n",
    "username = driver.find_element_by_name('username')\n",
    "password = driver.find_element_by_name('password')\n",
    "username.send_keys('SAMPLE_USERNAME')\n",
    "password.send_keys('SAMPLE_PASSWORD')\n",
    "password.submit()\n",
    "driver.implicitly_wait(20)\n",
    "driver.find_element_by_xpath('//button[contains(@class,\"aOOlW   HoLwm \")]').click()"
   ]
  },
  {
   "cell_type": "code",
   "execution_count": null,
   "metadata": {},
   "outputs": [],
   "source": [
    "#Function to Searching and Opening a Profile:\n",
    "def open_profile(handle) :\n",
    "    search_box = driver.find_element_by_xpath('//input[contains(@class,\"XTCLo x3qfX \")]')\n",
    "    search_box.send_keys(handle)\n",
    "    time.sleep(4)\n",
    "    driver.find_element_by_xpath('//a[contains(@class,\"yCE8d\")]').click()"
   ]
  },
  {
   "cell_type": "code",
   "execution_count": null,
   "metadata": {},
   "outputs": [],
   "source": [
    "# Opening Page of So Delhi\n",
    "open_profile('So Delhi')"
   ]
  },
  {
   "cell_type": "code",
   "execution_count": null,
   "metadata": {},
   "outputs": [],
   "source": [
    "#Finding name of all Handles that appear in search bar on searching 'food'\n",
    "search_box = driver.find_element_by_xpath('//input[contains(@class,\"XTCLo x3qfX \")]')\n",
    "search_box.send_keys('food')\n",
    "time.sleep(4)\n",
    "all_names = driver.find_elements_by_class_name('Ap253')\n",
    "handles = []\n",
    "for i in all_names :\n",
    "    if i.text[0] != '#' :\n",
    "        handles.append(i.text)\n",
    "handles"
   ]
  },
  {
   "cell_type": "code",
   "execution_count": null,
   "metadata": {},
   "outputs": [],
   "source": [
    "driver.refresh()"
   ]
  },
  {
   "cell_type": "code",
   "execution_count": null,
   "metadata": {},
   "outputs": [],
   "source": [
    "#Follow 'So Delhi' :\n",
    "check_following = driver.find_elements_by_xpath('//button[contains(@class,\"-fzfL\")]')\n",
    "if len(check_following) != 0 :\n",
    "    print('Already Following')\n",
    "else :\n",
    "    driver.find_element_by_xpath('//button[contains(@class,\"jIbKX\")]').click()"
   ]
  },
  {
   "cell_type": "code",
   "execution_count": null,
   "metadata": {},
   "outputs": [],
   "source": [
    "#Unfollow 'So Delhi' :\n",
    "check_following = driver.find_elements_by_xpath('//button[contains(@class,\"-fzfL\")]')\n",
    "if len(check_following) != 0 :\n",
    "    check_following[0].click()\n",
    "    time.sleep(2)\n",
    "    driver.find_element_by_xpath('//button[contains(@class,\"aOOlW -Cab_   \")]').click()\n",
    "else :\n",
    "    print('Already Unfollowed')"
   ]
  },
  {
   "cell_type": "code",
   "execution_count": null,
   "metadata": {},
   "outputs": [],
   "source": [
    "#Get List of Followers :\n",
    "def get_followers() :\n",
    "    time.sleep(5)\n",
    "    import math\n",
    "    driver.find_element_by_partial_link_text('followers').click()\n",
    "    time.sleep(5)\n",
    "    start = 0\n",
    "    k = 24\n",
    "    followers = []\n",
    "    while(True) :\n",
    "        if len(followers) > 100 :\n",
    "            break;\n",
    "        elements = driver.find_elements_by_xpath('//a[contains(@class,\"FPmhX\")]')\n",
    "        elements = elements[start:k+1]\n",
    "        for i in elements :\n",
    "            followers.append(i.text)\n",
    "        st = \"body > div.RnEpo.Yx5HN > div > div.isgrP > ul > div > li:nth-child(\" + str(k) + \")\"\n",
    "        check_exists = driver.find_elements_by_css_selector(st)\n",
    "        if len(check_exists) == 0 :\n",
    "            break;\n",
    "        s ='var topPos = document.querySelector(\\\"'+st+'\\\"); topPos.scrollIntoView(false);'\n",
    "        driver.execute_script(s)\n",
    "        start = start+12\n",
    "        if start == 12 :\n",
    "            start = 25\n",
    "        k = k + 12\n",
    "        time.sleep(1)\n",
    "    driver.back()\n",
    "    return followers"
   ]
  },
  {
   "cell_type": "code",
   "execution_count": null,
   "metadata": {},
   "outputs": [],
   "source": [
    "#Get List of Following by UserName :\n",
    "def get_following() :\n",
    "    time.sleep(5)\n",
    "    import math\n",
    "    driver.find_element_by_partial_link_text('following').click()\n",
    "    time.sleep(5)\n",
    "    start = 0\n",
    "    k = 24\n",
    "    following = []\n",
    "    while(True) :\n",
    "        elements = driver.find_elements_by_xpath('//a[contains(@class,\"FPmhX\")]')\n",
    "        elements = elements[start:k+1]\n",
    "        for i in elements :\n",
    "            following.append(i.text)\n",
    "        st = \"body > div.RnEpo.Yx5HN > div > div.isgrP > ul > div > li:nth-child(\" + str(k) + \")\"\n",
    "        check_exists = driver.find_elements_by_css_selector(st)\n",
    "        if len(check_exists) == 0 :\n",
    "            break;\n",
    "        s ='var topPos = document.querySelector(\\\"'+st+'\\\"); topPos.scrollIntoView(false);'\n",
    "        driver.execute_script(s)\n",
    "        start = start+12\n",
    "        if start == 12 :\n",
    "            start = 25\n",
    "        k = k + 12\n",
    "        time.sleep(1)\n",
    "    driver.back()\n",
    "    return following"
   ]
  },
  {
   "cell_type": "code",
   "execution_count": null,
   "metadata": {},
   "outputs": [],
   "source": [
    "driver.back()"
   ]
  },
  {
   "cell_type": "code",
   "execution_count": null,
   "metadata": {},
   "outputs": [],
   "source": [
    "# Get first 500 followers of 'foodtalkIndia'\n",
    "open_profile('foodtalkindia')\n",
    "follow1 = get_followers()"
   ]
  },
  {
   "cell_type": "code",
   "execution_count": null,
   "metadata": {},
   "outputs": [],
   "source": [
    "open_profile('So Delhi')\n",
    "follow2 = get_following()"
   ]
  },
  {
   "cell_type": "code",
   "execution_count": null,
   "metadata": {},
   "outputs": [],
   "source": []
  },
  {
   "cell_type": "code",
   "execution_count": null,
   "metadata": {},
   "outputs": [],
   "source": [
    "# Following - Followers\n",
    "open_profile('anmolbudhiraja')\n",
    "my_following = get_following()\n",
    "my_followers = get_followers()\n",
    "finalList = list(set(my_following)-set(my_followers))\n",
    "for i in finalList :\n",
    "    print(i)"
   ]
  },
  {
   "cell_type": "code",
   "execution_count": null,
   "metadata": {},
   "outputs": [],
   "source": [
    "# Checks if story is seen or not\n",
    "def check_Story(username) :\n",
    "    open_profile(username)\n",
    "    time.sleep(4)\n",
    "    height = driver.find_element_by_tag_name(\"canvas\").get_attribute('height')\n",
    "    if int(height) == 166 :\n",
    "        print('You have already checked the story of' , username)\n",
    "    else :\n",
    "        story_viewed = driver.find_elements_by_xpath('//div[contains(@class,\"h5uC0\")]')\n",
    "        if len(story_viewed) == 0 :\n",
    "            print('No story exists')\n",
    "        else :\n",
    "            driver.find_element_by_class_name('_6q-tv').click()\n",
    "    driver.back()"
   ]
  },
  {
   "cell_type": "code",
   "execution_count": null,
   "metadata": {},
   "outputs": [],
   "source": [
    "check_Story('coding.ninjas')"
   ]
  },
  {
   "cell_type": "code",
   "execution_count": null,
   "metadata": {},
   "outputs": [],
   "source": [
    "# Liking the first 30 posts\n",
    "def like_Posts() :\n",
    "    for i in range(1):\n",
    "        driver.execute_script(\"window.scrollTo(0, document.body.scrollHeight);\")\n",
    "        time.sleep(3)\n",
    "    posts = driver.find_elements_by_class_name('_9AhH0')[0:30]\n",
    "    for p in posts :\n",
    "        p.click()\n",
    "        time.sleep(3)\n",
    "        check_like = driver.find_element_by_xpath('//span[contains(@class,\"fr66n\")]//span').get_attribute('aria-label')\n",
    "        if check_like != 'Like':\n",
    "            print('Already Liked')\n",
    "        else :\n",
    "            driver.find_element_by_xpath('//span[contains(@class,\"fr66n\")]').click()\n",
    "        time.sleep(2)\n",
    "        driver.back()"
   ]
  },
  {
   "cell_type": "code",
   "execution_count": null,
   "metadata": {},
   "outputs": [],
   "source": [
    "# Unliking the first 30 posts\n",
    "def unlike_Posts() :\n",
    "    for i in range(1):\n",
    "        driver.execute_script(\"window.scrollTo(0, document.body.scrollHeight);\")\n",
    "        time.sleep(3)\n",
    "    posts = driver.find_elements_by_class_name('_9AhH0')[0:30]\n",
    "    for p in posts :\n",
    "        p.click()\n",
    "        time.sleep(2)\n",
    "        check_like = driver.find_element_by_xpath('//span[contains(@class,\"fr66n\")]//span').get_attribute('aria-label')\n",
    "        if check_like == 'Like':\n",
    "            print('Already Unliked')\n",
    "        else :\n",
    "            driver.find_element_by_xpath('//span[contains(@class,\"fr66n\")]').click()\n",
    "        time.sleep(1)\n",
    "        driver.back()"
   ]
  },
  {
   "cell_type": "code",
   "execution_count": null,
   "metadata": {},
   "outputs": [],
   "source": [
    "open_profile('dilsefoodie')\n",
    "like_Posts()\n",
    "unlike_Posts()"
   ]
  },
  {
   "cell_type": "code",
   "execution_count": null,
   "metadata": {},
   "outputs": [],
   "source": []
  }
 ],
 "metadata": {
  "kernelspec": {
   "display_name": "Python 3",
   "language": "python",
   "name": "python3"
  },
  "language_info": {
   "codemirror_mode": {
    "name": "ipython",
    "version": 3
   },
   "file_extension": ".py",
   "mimetype": "text/x-python",
   "name": "python",
   "nbconvert_exporter": "python",
   "pygments_lexer": "ipython3",
   "version": "3.6.8"
  }
 },
 "nbformat": 4,
 "nbformat_minor": 2
}
